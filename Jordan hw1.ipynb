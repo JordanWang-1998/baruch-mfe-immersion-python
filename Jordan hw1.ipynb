{
 "cells": [
  {
   "cell_type": "markdown",
   "metadata": {},
   "source": [
    "# Homework"
   ]
  },
  {
   "cell_type": "code",
   "execution_count": 70,
   "metadata": {
    "ExecuteTime": {
     "end_time": "2020-07-21T03:48:13.886075Z",
     "start_time": "2020-07-21T03:48:13.879075Z"
    }
   },
   "outputs": [],
   "source": [
    "from IPython.core.interactiveshell import InteractiveShell\n",
    "InteractiveShell.ast_node_interactivity = \"all\""
   ]
  },
  {
   "cell_type": "markdown",
   "metadata": {},
   "source": [
    "## Write a Jupyter Magic\n",
    "\n",
    "Write a Jupyter Magic that count the number of words in the cell. Try to make it both a line and cell magic. Demonstrate its usage with examples.\n",
    "\n",
    "You can refer to this documentation in creating a magic: https://ipython.readthedocs.io/en/stable/config/custommagics.html\n",
    "\n",
    "Line magic:\n",
    "```python\n",
    "%countwords this is a line magic\n",
    "\n",
    "# output: 5\n",
    "```\n",
    "\n",
    "\n",
    "Cell magic:\n",
    "```python\n",
    "%%countwords\n",
    "\n",
    "this is a magic\n",
    "cell\n",
    "\n",
    "\n",
    "# output: 5\n",
    "```\n",
    "\n"
   ]
  },
  {
   "cell_type": "code",
   "execution_count": 27,
   "metadata": {
    "ExecuteTime": {
     "end_time": "2020-07-21T03:32:08.390852Z",
     "start_time": "2020-07-21T03:32:08.383851Z"
    }
   },
   "outputs": [],
   "source": [
    "from IPython.core.magic import (register_line_cell_magic)"
   ]
  },
  {
   "cell_type": "code",
   "execution_count": 40,
   "metadata": {
    "ExecuteTime": {
     "end_time": "2020-07-21T03:33:35.949860Z",
     "start_time": "2020-07-21T03:33:35.941859Z"
    }
   },
   "outputs": [],
   "source": [
    "@register_line_cell_magic\n",
    "def countwords(line, cell=None):\n",
    "    \"Magic to count the number of words, works both as %countwords and as %%countwords\"\n",
    "    if cell is None:\n",
    "        return len(line.split())\n",
    "    else:\n",
    "        return len((line + cell).split())"
   ]
  },
  {
   "cell_type": "code",
   "execution_count": 44,
   "metadata": {
    "ExecuteTime": {
     "end_time": "2020-07-21T03:35:57.992984Z",
     "start_time": "2020-07-21T03:35:57.986984Z"
    }
   },
   "outputs": [
    {
     "data": {
      "text/plain": [
       "5"
      ]
     },
     "execution_count": 44,
     "metadata": {},
     "output_type": "execute_result"
    }
   ],
   "source": [
    "%countwords this is a line magic"
   ]
  },
  {
   "cell_type": "code",
   "execution_count": 42,
   "metadata": {
    "ExecuteTime": {
     "end_time": "2020-07-21T03:33:37.768964Z",
     "start_time": "2020-07-21T03:33:37.761964Z"
    }
   },
   "outputs": [
    {
     "data": {
      "text/plain": [
       "5"
      ]
     },
     "execution_count": 42,
     "metadata": {},
     "output_type": "execute_result"
    }
   ],
   "source": [
    "%%countwords\n",
    "\n",
    "this is a magic\n",
    "cell"
   ]
  },
  {
   "cell_type": "markdown",
   "metadata": {},
   "source": [
    "## Profile the speed of list comprehension vs. for loops\n",
    "Design some experiments to compare the speed of list comprehension and using a for loop. Practice using `%time`/`%%time` magics."
   ]
  },
  {
   "cell_type": "code",
   "execution_count": 45,
   "metadata": {
    "ExecuteTime": {
     "end_time": "2020-07-21T03:37:13.904326Z",
     "start_time": "2020-07-21T03:37:13.900326Z"
    }
   },
   "outputs": [],
   "source": [
    "# list of integers: 0 - 9999\n",
    "vec = list(range(10000))"
   ]
  },
  {
   "cell_type": "code",
   "execution_count": 51,
   "metadata": {
    "ExecuteTime": {
     "end_time": "2020-07-21T03:40:28.407451Z",
     "start_time": "2020-07-21T03:40:08.747327Z"
    }
   },
   "outputs": [
    {
     "name": "stdout",
     "output_type": "stream",
     "text": [
      "646 µs ± 23.3 µs per loop (mean ± std. dev. of 7 runs, 1000 loops each)\n",
      "1.77 ms ± 33.5 µs per loop (mean ± std. dev. of 7 runs, 1000 loops each)\n"
     ]
    }
   ],
   "source": [
    "# list comprehension is about 3x faster than for loop\n",
    "\n",
    "# Plus every elements in vec by 1, using for list comprehension\n",
    "%timeit vec_lc = [x+1 for x in vec]\n",
    "\n",
    "# Plus every elements in vec by 1, using for loop\n",
    "vec_for = vec.copy()\n",
    "%timeit for i,x in enumerate(vec): vec_for[i] += 1"
   ]
  },
  {
   "cell_type": "markdown",
   "metadata": {},
   "source": [
    "## Prime numbers\n",
    "\n",
    "Write a function to return all prime numbers in a list. Can you do this with one line of list comprehension?"
   ]
  },
  {
   "cell_type": "code",
   "execution_count": 92,
   "metadata": {
    "ExecuteTime": {
     "end_time": "2020-07-21T03:53:06.207795Z",
     "start_time": "2020-07-21T03:53:06.198794Z"
    }
   },
   "outputs": [
    {
     "name": "stdout",
     "output_type": "stream",
     "text": [
      "[0, 1, 2, 3, 4, 5, 6, 7, 8, 9, 10, 11, 12, 13, 14, 15, 16, 17, 18, 19, 20, 21, 22, 23, 24, 25, 26, 27, 28, 29, 30, 31, 32, 33, 34, 35, 36, 37, 38, 39, 40, 41, 42, 43, 44, 45, 46, 47, 48, 49, 50, 51, 52, 53, 54, 55, 56, 57, 58, 59, 60, 61, 62, 63, 64, 65, 66, 67, 68, 69, 70, 71, 72, 73, 74, 75, 76, 77, 78, 79, 80, 81, 82, 83, 84, 85, 86, 87, 88, 89, 90, 91, 92, 93, 94, 95, 96, 97, 98, 99]\n",
      "\n",
      "[2, 3, 5, 7, 11, 13, 17, 19, 23, 29, 31, 37, 41, 43, 47, 53, 59, 61, 67, 71, 73, 79, 83, 89, 97]\n"
     ]
    }
   ],
   "source": [
    "import random\n",
    "\n",
    "# 2 list of original numbers\n",
    "vec = [random.randint(1, 10000) for i in range(100)]\n",
    "vec = list(range(100))\n",
    "\n",
    "# Calculate all prime numbers in a list, using one-line list comprehension\n",
    "vec_prime = [x for x in vec if (x >= 2 and all([x%i for i in range(2, x)]))]\n",
    "\n",
    "# Print the lists of original numbers and prime numbers\n",
    "print(vec)\n",
    "print()\n",
    "print(vec_prime)"
   ]
  },
  {
   "cell_type": "markdown",
   "metadata": {},
   "source": [
    "## Extend the Vector class\n",
    "* Extend the `Vector` class example to support any dimension. \n",
    "* Think of operations/methods that would be useful when using the `Vector` class. Do some research on dunder methods to see how you can implement them in a Pythonic way. \n",
    "* Do not worry about performance. \n",
    "* Some examples of usages are.\n",
    "\n",
    "```python\n",
    "# construction\n",
    ">> v = Vector(1, 2, 3, 4, 5)\n",
    "\n",
    "# get item\n",
    ">> v[2]\n",
    "3\n",
    "\n",
    "# slicing\n",
    ">> v[2:3]\n",
    "Vector(2)\n",
    "\n",
    "# length\n",
    ">> len(v)\n",
    "5\n",
    "\n",
    "# power\n",
    ">> v ** 2\n",
    "Vector(1, 4, 9, 16, 25)\n",
    "```"
   ]
  },
  {
   "cell_type": "code",
   "execution_count": 151,
   "metadata": {
    "ExecuteTime": {
     "end_time": "2020-07-21T04:29:37.302118Z",
     "start_time": "2020-07-21T04:29:37.289118Z"
    }
   },
   "outputs": [],
   "source": [
    "import numpy as np\n",
    "\n",
    "class Vector:\n",
    "    def __init__(self, *nums):\n",
    "        if not nums:\n",
    "            print(\"Cannot generate a vector with no arguments!\")\n",
    "        else:\n",
    "            self.data = np.array([*nums])   # Save data in a np.array\n",
    "            self.dim = len(self.data)\n",
    "        \n",
    "    def __repr__(self):\n",
    "        return f\"Vector({self.data})\"\n",
    "    \n",
    "    def __str__(self):\n",
    "        return f\"{self.data}\"\n",
    "    \n",
    "    # Euler distance to origin point\n",
    "    def __abs__(self):\n",
    "        return sum(self.data ** 2) ** 0.5\n",
    "    \n",
    "    # Vector addition of the same dimension\n",
    "    def __add__(self, other): \n",
    "        if (self.dim == other.dim):\n",
    "            new_data = np.sum([self.data, other.data], axis = 0)\n",
    "            return Vector(new_data)\n",
    "        else:\n",
    "            print(\"Cannot add vectors of different dimension\")\n",
    "            return\n",
    "    \n",
    "    # Scalar multiplication\n",
    "    def __mul__(self, scalar):\n",
    "        return Vector(self.new_data * scalar)\n",
    "        \n",
    "    # Get item & slicing\n",
    "    def __getitem__(self, key): \n",
    "        if type(key) == int:\n",
    "            return self.data[key]\n",
    "        else:\n",
    "            return Vector(self.data[key])\n",
    "    \n",
    "    # Dimension (length) of vector\n",
    "    def __len__(self): \n",
    "        return self.dim\n",
    "    \n",
    "    # Power on each vector element\n",
    "    def __pow__(self, exponent): \n",
    "        return Vector(self.data ** exponent)"
   ]
  },
  {
   "cell_type": "code",
   "execution_count": 152,
   "metadata": {
    "ExecuteTime": {
     "end_time": "2020-07-21T04:29:38.693198Z",
     "start_time": "2020-07-21T04:29:38.679197Z"
    }
   },
   "outputs": [
    {
     "name": "stdout",
     "output_type": "stream",
     "text": [
      "Cannot generate a vector with no arguments!\n",
      "get item: 3\n",
      "slicing: [[2 3 4]]\n",
      "slicing: [[3]]\n",
      "length: 5\n",
      "power: [[ 1  4  9 16 25]]\n",
      "power: [[  1   8  27  64 125]]\n",
      "power: [[  1  16  81 256 625]]\n"
     ]
    }
   ],
   "source": [
    "# construction\n",
    "v = Vector(1, 2, 3, 4, 5)\n",
    "v2 = Vector()\n",
    "\n",
    "# get item\n",
    "print(\"get item:\", v[2])\n",
    "\n",
    "# slicing\n",
    "print(\"slicing:\", v[1:4])\n",
    "print(\"slicing:\", v[2:3])\n",
    "\n",
    "# length\n",
    "print(\"length:\", len(v))\n",
    "\n",
    "# power\n",
    "print(\"power:\", v ** 2)\n",
    "print(\"power:\", v ** 3)\n",
    "print(\"power:\", v ** 4)"
   ]
  },
  {
   "cell_type": "markdown",
   "metadata": {},
   "source": [
    "## Case-insensitive dictionary\n",
    "* Write a `CaseInsensitiveDict` class that is insensitive to the case of keys.\n",
    "* It's a good idea to inherit from collections.UserDict.\n",
    "* Use examples to demonstrate how it should be used.\n",
    "\n",
    "\n",
    "```python\n",
    "d = CaseInsensitiveDict()\n",
    "d['A'] = 3\n",
    "\n",
    ">> print(d['a'])\n",
    "3\n",
    "\n",
    ">> d['A'] = 4\n",
    ">> print(d['a'])\n",
    "4\n",
    "```\n",
    "\n",
    "* Bonus point: what if you need to store the original keys?\n",
    "\n",
    "```python\n",
    ">> print(d)\n",
    "{'A': 3}\n",
    "```"
   ]
  },
  {
   "cell_type": "code",
   "execution_count": 177,
   "metadata": {
    "ExecuteTime": {
     "end_time": "2020-07-21T04:48:43.041651Z",
     "start_time": "2020-07-21T04:48:43.026650Z"
    }
   },
   "outputs": [],
   "source": [
    "# CaseInsensitiveDict class: insensitive to the case of keys\n",
    "class CaseInsensitiveDict(dict):\n",
    "    def __getitem__(self, new_key):\n",
    "        for old_key in self.keys():\n",
    "            if old_key.lower() == new_key.lower():  # insensitive to the case of keys\n",
    "                return self.get(old_key)\n",
    "    \n",
    "    def __setitem__(self, new_key, val):\n",
    "        for old_key in self.keys():\n",
    "            if old_key.lower() == new_key.lower():\n",
    "                self.update({old_key: val})  # store the original keys\n",
    "                return\n",
    "        self.update({new_key: val})"
   ]
  },
  {
   "cell_type": "code",
   "execution_count": 178,
   "metadata": {
    "ExecuteTime": {
     "end_time": "2020-07-21T04:48:44.354726Z",
     "start_time": "2020-07-21T04:48:44.341725Z"
    }
   },
   "outputs": [
    {
     "name": "stdout",
     "output_type": "stream",
     "text": [
      "22\n",
      "22\n",
      "{'jordan': 22}\n",
      "\n",
      "40\n",
      "40\n",
      "{'jordan': 40}\n",
      "\n",
      "{'jordan': 40, 'Lisa': 27}\n"
     ]
    }
   ],
   "source": [
    "d = CaseInsensitiveDict()\n",
    "\n",
    "d['jordan'] = 22\n",
    "print(d['jordan'])\n",
    "print(d['Jordan'])\n",
    "print(d)\n",
    "print()\n",
    "\n",
    "d['Jordan'] = 40\n",
    "print(d['jordan'])\n",
    "print(d['Jordan'])\n",
    "print(d)\n",
    "print()\n",
    "\n",
    "d['Lisa'] = 27\n",
    "print(d)"
   ]
  },
  {
   "cell_type": "code",
   "execution_count": null,
   "metadata": {},
   "outputs": [],
   "source": []
  }
 ],
 "metadata": {
  "kernelspec": {
   "display_name": "Python 3",
   "language": "python",
   "name": "python3"
  },
  "language_info": {
   "codemirror_mode": {
    "name": "ipython",
    "version": 3
   },
   "file_extension": ".py",
   "mimetype": "text/x-python",
   "name": "python",
   "nbconvert_exporter": "python",
   "pygments_lexer": "ipython3",
   "version": "3.7.1"
  },
  "toc": {
   "base_numbering": 1,
   "nav_menu": {},
   "number_sections": true,
   "sideBar": true,
   "skip_h1_title": false,
   "title_cell": "Table of Contents",
   "title_sidebar": "Contents",
   "toc_cell": false,
   "toc_position": {},
   "toc_section_display": true,
   "toc_window_display": false
  },
  "varInspector": {
   "cols": {
    "lenName": 16,
    "lenType": 16,
    "lenVar": 40
   },
   "kernels_config": {
    "python": {
     "delete_cmd_postfix": "",
     "delete_cmd_prefix": "del ",
     "library": "var_list.py",
     "varRefreshCmd": "print(var_dic_list())"
    },
    "r": {
     "delete_cmd_postfix": ") ",
     "delete_cmd_prefix": "rm(",
     "library": "var_list.r",
     "varRefreshCmd": "cat(var_dic_list()) "
    }
   },
   "types_to_exclude": [
    "module",
    "function",
    "builtin_function_or_method",
    "instance",
    "_Feature"
   ],
   "window_display": false
  }
 },
 "nbformat": 4,
 "nbformat_minor": 4
}
