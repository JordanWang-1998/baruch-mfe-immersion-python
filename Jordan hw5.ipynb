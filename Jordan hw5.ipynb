{
 "cells": [
  {
   "cell_type": "code",
   "execution_count": 12,
   "metadata": {
    "ExecuteTime": {
     "end_time": "2020-08-19T12:48:59.303612Z",
     "start_time": "2020-08-19T12:48:59.290612Z"
    }
   },
   "outputs": [],
   "source": [
    "from IPython.core.interactiveshell import InteractiveShell\n",
    "InteractiveShell.ast_node_interactivity = \"all\""
   ]
  },
  {
   "cell_type": "markdown",
   "metadata": {},
   "source": [
    "# Question 1 Algorithmic questions\n",
    "\n",
    "Find the kth largest element in an unsorted array. Note that it is the kth largest element in the sorted order, not the kth distinct element.\n"
   ]
  },
  {
   "cell_type": "markdown",
   "metadata": {},
   "source": [
    "## Examples:\n",
    "\n",
    "* Input: [3,2,1,5,6,4] and k = 2\n",
    "* Output: 5\n",
    "\n",
    "\n",
    "* Input: [3,2,3,1,2,4,5,5,6] and k = 4\n",
    "* Output: 4\n",
    "\n",
    "\n",
    "* You may assume k is always valid, 1 ≤ k ≤ array's length.\n",
    "\n",
    "\n",
    "* To receive full credit, you should do the following:\n",
    "    * Develop several test cases and explain why you choose these test cases\n",
    "    * Wrap your solution into a function.\n",
    "    * Analyze the time complexity of your algorithm.\n",
    "    \n",
    "    \n",
    "* Hint: You should use heapq to solve the question, but you should not use heapq.nlargest."
   ]
  },
  {
   "cell_type": "code",
   "execution_count": 13,
   "metadata": {
    "ExecuteTime": {
     "end_time": "2020-08-19T12:49:00.510681Z",
     "start_time": "2020-08-19T12:49:00.485680Z"
    }
   },
   "outputs": [],
   "source": [
    "from heapq import *\n",
    "def get_nlargest(nums, k):\n",
    "    n = len(nums)\n",
    "    if k > n:\n",
    "        return None\n",
    "    neg_nums = [-num for num in nums]   # neg_nums = negative copy of nums\n",
    "    heapify(neg_nums)                   # heapify neg_nums -> min heap\n",
    "    while k >= 2:\n",
    "        heappop(neg_nums)               # pop k-1 min values from min heap\n",
    "        k -= 1\n",
    "    return -heappop(neg_nums)           # return k-th largest element = -(current min value) of min heap"
   ]
  },
  {
   "cell_type": "code",
   "execution_count": 18,
   "metadata": {
    "ExecuteTime": {
     "end_time": "2020-08-19T12:52:38.449147Z",
     "start_time": "2020-08-19T12:52:38.401144Z"
    }
   },
   "outputs": [
    {
     "data": {
      "text/plain": [
       "5"
      ]
     },
     "execution_count": 18,
     "metadata": {},
     "output_type": "execute_result"
    },
    {
     "data": {
      "text/plain": [
       "4"
      ]
     },
     "execution_count": 18,
     "metadata": {},
     "output_type": "execute_result"
    },
    {
     "data": {
      "text/plain": [
       "3"
      ]
     },
     "execution_count": 18,
     "metadata": {},
     "output_type": "execute_result"
    },
    {
     "data": {
      "text/plain": [
       "3"
      ]
     },
     "execution_count": 18,
     "metadata": {},
     "output_type": "execute_result"
    },
    {
     "data": {
      "text/plain": [
       "2"
      ]
     },
     "execution_count": 18,
     "metadata": {},
     "output_type": "execute_result"
    },
    {
     "data": {
      "text/plain": [
       "2"
      ]
     },
     "execution_count": 18,
     "metadata": {},
     "output_type": "execute_result"
    },
    {
     "data": {
      "text/plain": [
       "1"
      ]
     },
     "execution_count": 18,
     "metadata": {},
     "output_type": "execute_result"
    }
   ],
   "source": [
    "nums1, k1 = [3,2,1,5,6,4], 2          # unsorted without duplicates\n",
    "nums2, k2 = [3,2,3,1,2,4,5,5,6], 4    # unsorted with duplicates\n",
    "nums3, k3 = [0,1,2,3,4,5], 3          # sorted in ascending order without duplicates\n",
    "nums4, k4 = [5,4,3,2,1,0], 3          # sorted in desceinding order without duplicates\n",
    "nums5, k5 = [0,0,1,1,2,2,3,3,4,4,5,5], 8   # sorted in ascending order with duplicates\n",
    "nums6, k6 = [5,5,4,4,3,3,2,2,1,1,0,0], 8   # sorted in descending order with duplicates\n",
    "nums7, k7 = [1,1,1,1,1], 4            # all same values\n",
    "\n",
    "get_nlargest(nums1, k1)\n",
    "get_nlargest(nums2, k2)\n",
    "get_nlargest(nums3, k3)\n",
    "get_nlargest(nums4, k4)\n",
    "get_nlargest(nums5, k5)\n",
    "get_nlargest(nums6, k6)\n",
    "get_nlargest(nums7, k7)"
   ]
  },
  {
   "cell_type": "markdown",
   "metadata": {},
   "source": [
    "# Question 2 Multithreading pop.\n",
    "\n",
    "Using python data structure Queue, generate a queue that have 10000 elments. Then use 1, 5, 20 threads to pop out the elments out. Compare the efficiency when you use different number of threads and explain why you see the pattern of performance."
   ]
  },
  {
   "cell_type": "code",
   "execution_count": 3,
   "metadata": {
    "ExecuteTime": {
     "end_time": "2020-08-19T12:45:21.212138Z",
     "start_time": "2020-08-19T12:45:21.207138Z"
    }
   },
   "outputs": [],
   "source": [
    "from queue import Queue\n",
    "\n",
    "def get_queue():\n",
    "    '''return a queue of size 10000'''\n",
    "    q = Queue()\n",
    "    for num in range(1000):\n",
    "        q.put(num)\n",
    "    return q"
   ]
  },
  {
   "cell_type": "code",
   "execution_count": 1,
   "metadata": {
    "ExecuteTime": {
     "end_time": "2020-08-19T12:45:15.959838Z",
     "start_time": "2020-08-19T12:45:15.938837Z"
    }
   },
   "outputs": [],
   "source": [
    "import threading\n",
    "import time\n",
    "\n",
    "threads = []   # list of threads\n",
    "\n",
    "def threader(k):\n",
    "    '''thread function to pop the queue k times'''\n",
    "    for _ in range(k):\n",
    "        if not q.empty():\n",
    "            q.get()\n",
    "            time.sleep(1e-5)   # sleep for a short time, to simulate heavy computation\n",
    "#     q.task_done()            # don't need task_done(), since we expicitly assign each thread to pop k times, before joining\n",
    "\n",
    "def multithreading(q, n):\n",
    "    '''start & join all n threads'''\n",
    "    for i in range(n):\n",
    "        t = threading.Thread(target = threader, args = (int(10000//n),))   # n threads, each thread pop 10000//n times\n",
    "        threads.append(t)\n",
    "        t.daemon = True        # stop abruptly at the end\n",
    "        t.start()\n",
    "    for t in threads:\n",
    "        t.join()"
   ]
  },
  {
   "cell_type": "code",
   "execution_count": 11,
   "metadata": {
    "ExecuteTime": {
     "end_time": "2020-08-19T12:47:35.725832Z",
     "start_time": "2020-08-19T12:47:34.005734Z"
    }
   },
   "outputs": [
    {
     "name": "stdout",
     "output_type": "stream",
     "text": [
      "2.08 ms ± 57.6 µs per loop (mean ± std. dev. of 7 runs, 100 loops each)\n"
     ]
    }
   ],
   "source": [
    "%timeit q = get_queue()"
   ]
  },
  {
   "cell_type": "code",
   "execution_count": 10,
   "metadata": {
    "ExecuteTime": {
     "end_time": "2020-08-19T12:47:33.358697Z",
     "start_time": "2020-08-19T12:47:04.935071Z"
    }
   },
   "outputs": [
    {
     "name": "stdout",
     "output_type": "stream",
     "text": [
      "14.6 ms ± 1.3 ms per loop (mean ± std. dev. of 7 runs, 100 loops each)\n",
      "18.3 ms ± 1.26 ms per loop (mean ± std. dev. of 7 runs, 100 loops each)\n",
      "22.3 ms ± 896 µs per loop (mean ± std. dev. of 7 runs, 10 loops each)\n"
     ]
    }
   ],
   "source": [
    "%timeit multithreading(get_queue(), 1)    # 1 threads\n",
    "%timeit multithreading(get_queue(), 5)    # 5 threads\n",
    "%timeit multithreading(get_queue(), 20)   # 20 threads"
   ]
  },
  {
   "cell_type": "markdown",
   "metadata": {},
   "source": [
    "* Wall time increases a little, as # of threads increases.\n",
    "* Reason: GIL (Global Interpreter Lock) only allows 1 thread to run any time, on a shared memory space"
   ]
  }
 ],
 "metadata": {
  "kernelspec": {
   "display_name": "Python 3",
   "language": "python",
   "name": "python3"
  },
  "language_info": {
   "codemirror_mode": {
    "name": "ipython",
    "version": 3
   },
   "file_extension": ".py",
   "mimetype": "text/x-python",
   "name": "python",
   "nbconvert_exporter": "python",
   "pygments_lexer": "ipython3",
   "version": "3.7.1"
  },
  "toc": {
   "base_numbering": 1,
   "nav_menu": {},
   "number_sections": true,
   "sideBar": true,
   "skip_h1_title": false,
   "title_cell": "Table of Contents",
   "title_sidebar": "Contents",
   "toc_cell": false,
   "toc_position": {},
   "toc_section_display": true,
   "toc_window_display": false
  },
  "varInspector": {
   "cols": {
    "lenName": 16,
    "lenType": 16,
    "lenVar": 40
   },
   "kernels_config": {
    "python": {
     "delete_cmd_postfix": "",
     "delete_cmd_prefix": "del ",
     "library": "var_list.py",
     "varRefreshCmd": "print(var_dic_list())"
    },
    "r": {
     "delete_cmd_postfix": ") ",
     "delete_cmd_prefix": "rm(",
     "library": "var_list.r",
     "varRefreshCmd": "cat(var_dic_list()) "
    }
   },
   "types_to_exclude": [
    "module",
    "function",
    "builtin_function_or_method",
    "instance",
    "_Feature"
   ],
   "window_display": false
  }
 },
 "nbformat": 4,
 "nbformat_minor": 2
}
