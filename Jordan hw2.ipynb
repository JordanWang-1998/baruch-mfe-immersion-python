{
 "cells": [
  {
   "cell_type": "code",
   "execution_count": 16,
   "metadata": {
    "ExecuteTime": {
     "end_time": "2020-08-02T13:54:45.956616Z",
     "start_time": "2020-08-02T13:54:45.948616Z"
    }
   },
   "outputs": [],
   "source": [
    "from IPython.core.interactiveshell import InteractiveShell\n",
    "InteractiveShell.ast_node_interactivity = \"all\""
   ]
  },
  {
   "cell_type": "markdown",
   "metadata": {},
   "source": [
    "# Homework 2"
   ]
  },
  {
   "cell_type": "markdown",
   "metadata": {},
   "source": [
    "## Reading\n",
    "* Descriptor: https://realpython.com/python-descriptors/#how-attributes-are-accessed-with-the-lookup-chain\n",
    "* Data model: https://docs.python.org/3/reference/datamodel.html (contents related to what we taught)\n",
    "* Python MRO: https://www.python.org/download/releases/2.3/mro/"
   ]
  },
  {
   "cell_type": "markdown",
   "metadata": {},
   "source": [
    "## Merge sorted stream\n",
    "Write a generator function that takes two sorted streams (generators), and return a generator that can produce a merged stream in sorted order.\n",
    "\n",
    "Bonus point: can you make it generic such that it can merge any number of streams?\n",
    "\n",
    "\n",
    "```python\n",
    "def merge_sorted_stream(stream1, stream2):\n",
    "    yield ...\n",
    "\n",
    "stream1 = range(0, 10, 2)\n",
    "stream2 = range(1, 10, 2)\n",
    "\n",
    "for x in merge_sorted_stream(stream1, stream2):\n",
    "    print(x)\n",
    "\n",
    "0 \n",
    "1\n",
    "2\n",
    "3\n",
    "4\n",
    "5\n",
    "6\n",
    "7\n",
    "8\n",
    "9\n",
    "```"
   ]
  },
  {
   "cell_type": "code",
   "execution_count": 84,
   "metadata": {
    "ExecuteTime": {
     "end_time": "2020-08-02T14:54:11.484553Z",
     "start_time": "2020-08-02T14:54:11.471552Z"
    }
   },
   "outputs": [],
   "source": [
    "\n",
    "def merge_sorted_stream(stream1, stream2):\n",
    "    \"\"\"merge 2 sorted streams\"\"\"\n",
    "    \n",
    "    try: curr1 = next(stream1)       # current pointer in stream1\n",
    "    except Exception: curr1 = None\n",
    "    \n",
    "    try: curr2 = next(stream2)        # current pointer in stream2\n",
    "    except Exception: curr2 = None\n",
    "    \n",
    "    while curr1 is not None and curr2 is not None:\n",
    "        if curr1 < curr2:\n",
    "            yield curr1\n",
    "            try: curr1 = next(stream1)\n",
    "            except Exception: curr1 = None\n",
    "        else:\n",
    "            yield curr2\n",
    "            try: curr2 = next(stream2)\n",
    "            except Exception: curr2 = None\n",
    "            \n",
    "    if curr1 is not None:\n",
    "        yield curr1\n",
    "        for curr1 in stream1: yield curr1\n",
    "    if curr2 is not None:\n",
    "        yield curr2\n",
    "        for curr2 in stream2: yield curr2"
   ]
  },
  {
   "cell_type": "code",
   "execution_count": 103,
   "metadata": {
    "ExecuteTime": {
     "end_time": "2020-08-02T15:05:21.281863Z",
     "start_time": "2020-08-02T15:05:21.269862Z"
    }
   },
   "outputs": [],
   "source": [
    "def merge_all_sorted_stream(*streams):\n",
    "    \"\"\"generically merge several sorted streams\"\"\"\n",
    "    \n",
    "    if len(streams) > 2:\n",
    "        for curr in merge_sorted_stream(streams[0], merge_all_sorted_stream(*streams[1:])):\n",
    "            yield curr\n",
    "        return\n",
    "    if len(streams) == 2:\n",
    "        for curr in merge_sorted_stream(streams[0], streams[1]):\n",
    "            yield curr\n",
    "    if len(streams) == 1:\n",
    "        print(\"Cannot merge <= 1 stream!\")\n",
    "        return"
   ]
  },
  {
   "cell_type": "code",
   "execution_count": 90,
   "metadata": {
    "ExecuteTime": {
     "end_time": "2020-08-02T14:58:43.121090Z",
     "start_time": "2020-08-02T14:58:43.105089Z"
    }
   },
   "outputs": [],
   "source": [
    "stream1 = iter(range(0, 20, 5))\n",
    "stream2 = iter(range(1, 20, 5))\n",
    "stream3 = iter(range(2, 20, 5))\n",
    "stream4 = iter(range(3, 20, 5))\n",
    "stream5 = iter(range(4, 20, 5))"
   ]
  },
  {
   "cell_type": "code",
   "execution_count": 102,
   "metadata": {
    "ExecuteTime": {
     "end_time": "2020-08-02T15:03:14.906635Z",
     "start_time": "2020-08-02T15:03:14.900634Z"
    }
   },
   "outputs": [],
   "source": [
    "stream12 = merge_sorted_stream(stream1, stream2)\n",
    "for curr in stream12:\n",
    "    print(curr)"
   ]
  },
  {
   "cell_type": "code",
   "execution_count": 104,
   "metadata": {
    "ExecuteTime": {
     "end_time": "2020-08-02T15:05:23.460988Z",
     "start_time": "2020-08-02T15:05:23.451987Z"
    }
   },
   "outputs": [
    {
     "name": "stdout",
     "output_type": "stream",
     "text": [
      "2\n",
      "3\n",
      "4\n",
      "7\n",
      "8\n",
      "9\n",
      "12\n",
      "13\n",
      "14\n",
      "17\n",
      "18\n",
      "19\n"
     ]
    }
   ],
   "source": [
    "stream12345 = merge_all_sorted_stream(stream1, stream2, stream3, stream4, stream5)\n",
    "for curr in stream12345:\n",
    "    print(curr)"
   ]
  },
  {
   "cell_type": "markdown",
   "metadata": {},
   "source": [
    "## Tree traversal\n",
    "\n",
    "Unlike linear data structures (Array, Linked List, Queues, Stacks, etc) which have only one logical way to traverse them, trees can be traversed in different ways. Following are the generally used ways for traversing trees.\n",
    "\n",
    "```\n",
    "      1\n",
    "    /  \\ \n",
    "   2    3\n",
    "  / \\\n",
    " 4   5\n",
    "```\n",
    "\n",
    "Depth First Traversals: \n",
    "  * (a) Inorder (Left, Root, Right) : 4 2 5 1 3\n",
    "  * (b) Preorder (Root, Left, Right) : 1 2 4 5 3\n",
    "  * (c) Postorder (Left, Right, Root) : 4 5 2 3 1\n",
    "\n",
    "Define a Tree class with a method that can walk through the tree in different orders. Hint: use generator will make your life a lot easier.\n",
    "\n",
    "```python\n",
    "class TreeNode:\n",
    "    \n",
    "    ...\n",
    "\n",
    "    def in_order(self):\n",
    "        pass\n",
    "        \n",
    "    def pre_order(self):\n",
    "        pass\n",
    "        \n",
    "    def post_order(self):\n",
    "        pass\n",
    "\n",
    "    \n",
    "root = TreeNode(1)\n",
    "root.left = TreeNode(2)\n",
    "root.right = TreeNode(3)\n",
    "root.left.left = TreeNode(4)\n",
    "root.left.right = TreeNode(5)\n",
    "\n",
    ">>> print(' -> '.join(item for item in root.in_order()))\n",
    "4 -> 2 -> 5 -> 1 -> 3    \n",
    "\n",
    "\n",
    "```\n",
    "   "
   ]
  },
  {
   "cell_type": "code",
   "execution_count": 135,
   "metadata": {
    "ExecuteTime": {
     "end_time": "2020-08-02T15:30:50.317319Z",
     "start_time": "2020-08-02T15:30:50.302318Z"
    }
   },
   "outputs": [],
   "source": [
    "class TreeNode:\n",
    "    \n",
    "    def __init__(self, val):\n",
    "        self.val = str(val)\n",
    "        self.left = None\n",
    "        self.right = None\n",
    "\n",
    "    def in_order(self):\n",
    "        \"\"\"inorder traversal: left -> root -> right\"\"\"\n",
    "        \n",
    "        if self.left is not None:\n",
    "            for node_val in self.left.in_order(): \n",
    "                yield node_val\n",
    "                \n",
    "        yield self.val\n",
    "        \n",
    "        if self.right is not None:\n",
    "            for node_val in self.right.in_order(): \n",
    "                yield node_val\n",
    "        \n",
    "    def pre_order(self):\n",
    "        \"\"\"preorder traversal: root -> left -> right\"\"\"\n",
    "        \n",
    "        yield self.val\n",
    "        \n",
    "        if self.left is not None:\n",
    "            for node_val in self.left.pre_order(): \n",
    "                yield node_val\n",
    "                \n",
    "        if self.right is not None:\n",
    "            for node_val in self.right.pre_order(): \n",
    "                yield node_val\n",
    "        \n",
    "    def post_order(self):\n",
    "        \"\"\"postorder traversal: left -> right -> root\"\"\"\n",
    "        \n",
    "        if self.left is not None:\n",
    "            for node_val in self.left.post_order(): \n",
    "                yield node_val\n",
    "                \n",
    "        if self.right is not None:\n",
    "            for node_val in self.right.post_order(): \n",
    "                yield node_val\n",
    "                \n",
    "        yield self.val"
   ]
  },
  {
   "cell_type": "code",
   "execution_count": 137,
   "metadata": {
    "ExecuteTime": {
     "end_time": "2020-08-02T15:31:02.270003Z",
     "start_time": "2020-08-02T15:31:02.256002Z"
    }
   },
   "outputs": [
    {
     "name": "stdout",
     "output_type": "stream",
     "text": [
      "4 -> 2 -> 5 -> 1 -> 3\n",
      "1 -> 2 -> 4 -> 5 -> 3\n",
      "4 -> 5 -> 2 -> 3 -> 1\n"
     ]
    }
   ],
   "source": [
    "root = TreeNode(1)\n",
    "root.left = TreeNode(2)\n",
    "root.right = TreeNode(3)\n",
    "root.left.left = TreeNode(4)\n",
    "root.left.right = TreeNode(5)\n",
    "\n",
    "print(' -> '.join(item for item in root.in_order()))\n",
    "print(' -> '.join(item for item in root.pre_order()))\n",
    "print(' -> '.join(item for item in root.post_order()))"
   ]
  },
  {
   "cell_type": "markdown",
   "metadata": {},
   "source": [
    "## Implement a timer\n",
    "Implement a timer that can print the execution time of your code. Try to implement it both as a decorator and as a context manager to compare the implementations. Can you implement it using one single class? \n",
    "\n",
    "Example:\n",
    "```python\n",
    "import time\n",
    "\n",
    "\n",
    "with timer() as timer:\n",
    "    time.sleep(3)\n",
    "\n",
    "# Total execution time: 3.000123 seconds (a made up number)\n",
    "\n",
    "\n",
    "@timer\n",
    "def sleep(secs):\n",
    "    time.sleep(secs)\n",
    "    \n",
    "sleep(3)\n",
    "# Total execution time: 3.000123 seconds (a made up number)\n",
    "```\n",
    "\n",
    "Below is the code snippet to measure the time:\n",
    "```python    \n",
    "import time\n",
    "start_time = time.time()\n",
    "main()\n",
    "print(f\"--- {time.time() - start_time} seconds ---\"\n",
    "```"
   ]
  },
  {
   "cell_type": "code",
   "execution_count": 141,
   "metadata": {
    "ExecuteTime": {
     "end_time": "2020-08-02T15:49:50.787550Z",
     "start_time": "2020-08-02T15:49:50.778550Z"
    }
   },
   "outputs": [],
   "source": [
    "import time\n",
    "\n",
    "def timer(sleep):\n",
    "    \"\"\"decorator timer\"\"\"\n",
    "    def inner(secs):\n",
    "        start_time = time.time()\n",
    "        sleep(secs)\n",
    "        end_time = time.time()\n",
    "        print(f\"--- {time.time() - start_time} seconds ---\")\n",
    "        return sleep(secs)\n",
    "    return inner"
   ]
  },
  {
   "cell_type": "code",
   "execution_count": 142,
   "metadata": {
    "ExecuteTime": {
     "end_time": "2020-08-02T15:49:57.157914Z",
     "start_time": "2020-08-02T15:49:57.152914Z"
    }
   },
   "outputs": [],
   "source": [
    "@timer\n",
    "def sleep(secs):\n",
    "    time.sleep(secs)"
   ]
  },
  {
   "cell_type": "code",
   "execution_count": 143,
   "metadata": {
    "ExecuteTime": {
     "end_time": "2020-08-02T15:50:07.155486Z",
     "start_time": "2020-08-02T15:50:01.152143Z"
    }
   },
   "outputs": [
    {
     "name": "stdout",
     "output_type": "stream",
     "text": [
      "--- 3.000171661376953 seconds ---\n"
     ]
    }
   ],
   "source": [
    "sleep(3)"
   ]
  }
 ],
 "metadata": {
  "kernelspec": {
   "display_name": "Python 3",
   "language": "python",
   "name": "python3"
  },
  "language_info": {
   "codemirror_mode": {
    "name": "ipython",
    "version": 3
   },
   "file_extension": ".py",
   "mimetype": "text/x-python",
   "name": "python",
   "nbconvert_exporter": "python",
   "pygments_lexer": "ipython3",
   "version": "3.7.1"
  },
  "toc": {
   "base_numbering": 1,
   "nav_menu": {},
   "number_sections": true,
   "sideBar": true,
   "skip_h1_title": false,
   "title_cell": "Table of Contents",
   "title_sidebar": "Contents",
   "toc_cell": false,
   "toc_position": {},
   "toc_section_display": true,
   "toc_window_display": false
  },
  "varInspector": {
   "cols": {
    "lenName": 16,
    "lenType": 16,
    "lenVar": 40
   },
   "kernels_config": {
    "python": {
     "delete_cmd_postfix": "",
     "delete_cmd_prefix": "del ",
     "library": "var_list.py",
     "varRefreshCmd": "print(var_dic_list())"
    },
    "r": {
     "delete_cmd_postfix": ") ",
     "delete_cmd_prefix": "rm(",
     "library": "var_list.r",
     "varRefreshCmd": "cat(var_dic_list()) "
    }
   },
   "types_to_exclude": [
    "module",
    "function",
    "builtin_function_or_method",
    "instance",
    "_Feature"
   ],
   "window_display": false
  }
 },
 "nbformat": 4,
 "nbformat_minor": 4
}
