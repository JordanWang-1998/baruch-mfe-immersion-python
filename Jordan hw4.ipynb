{
 "cells": [
  {
   "cell_type": "code",
   "execution_count": 25,
   "metadata": {
    "ExecuteTime": {
     "end_time": "2020-08-19T08:57:29.755176Z",
     "start_time": "2020-08-19T08:57:29.740175Z"
    }
   },
   "outputs": [
    {
     "data": {
      "text/html": [
       "<style>.container { width:100% !important; }</style>"
      ],
      "text/plain": [
       "<IPython.core.display.HTML object>"
      ]
     },
     "metadata": {},
     "output_type": "display_data"
    }
   ],
   "source": [
    "from IPython.core.display import display, HTML\n",
    "display(HTML(\"<style>.container { width:100% !important; }</style>\"))\n",
    "\n",
    "import pandas as pd\n",
    "import numpy as np"
   ]
  },
  {
   "cell_type": "markdown",
   "metadata": {},
   "source": [
    "## Question 1 Exploratory Data Analysis"
   ]
  },
  {
   "cell_type": "markdown",
   "metadata": {},
   "source": [
    "* From example/input/ load compustat.csv inside compustat.zip without unzip compustat.zip"
   ]
  },
  {
   "cell_type": "code",
   "execution_count": 26,
   "metadata": {
    "ExecuteTime": {
     "end_time": "2020-08-19T08:57:34.680457Z",
     "start_time": "2020-08-19T08:57:30.221202Z"
    }
   },
   "outputs": [
    {
     "name": "stdout",
     "output_type": "stream",
     "text": [
      "(1811299, 17)\n"
     ]
    },
    {
     "data": {
      "text/html": [
       "<div>\n",
       "<style scoped>\n",
       "    .dataframe tbody tr th:only-of-type {\n",
       "        vertical-align: middle;\n",
       "    }\n",
       "\n",
       "    .dataframe tbody tr th {\n",
       "        vertical-align: top;\n",
       "    }\n",
       "\n",
       "    .dataframe thead th {\n",
       "        text-align: right;\n",
       "    }\n",
       "</style>\n",
       "<table border=\"1\" class=\"dataframe\">\n",
       "  <thead>\n",
       "    <tr style=\"text-align: right;\">\n",
       "      <th></th>\n",
       "      <th>gvkey</th>\n",
       "      <th>datadate</th>\n",
       "      <th>fyearq</th>\n",
       "      <th>fqtr</th>\n",
       "      <th>indfmt</th>\n",
       "      <th>consol</th>\n",
       "      <th>popsrc</th>\n",
       "      <th>datafmt</th>\n",
       "      <th>cusip</th>\n",
       "      <th>curcdq</th>\n",
       "      <th>datacqtr</th>\n",
       "      <th>datafqtr</th>\n",
       "      <th>cshoq</th>\n",
       "      <th>saleq</th>\n",
       "      <th>costat</th>\n",
       "      <th>prccq</th>\n",
       "      <th>sic</th>\n",
       "    </tr>\n",
       "  </thead>\n",
       "  <tbody>\n",
       "    <tr>\n",
       "      <th>0</th>\n",
       "      <td>1000</td>\n",
       "      <td>19660331</td>\n",
       "      <td>1966</td>\n",
       "      <td>1</td>\n",
       "      <td>INDL</td>\n",
       "      <td>C</td>\n",
       "      <td>D</td>\n",
       "      <td>STD</td>\n",
       "      <td>000032102</td>\n",
       "      <td>USD</td>\n",
       "      <td>1966Q1</td>\n",
       "      <td>1966Q1</td>\n",
       "      <td>0.219</td>\n",
       "      <td>NaN</td>\n",
       "      <td>I</td>\n",
       "      <td>NaN</td>\n",
       "      <td>3089.0</td>\n",
       "    </tr>\n",
       "    <tr>\n",
       "      <th>1</th>\n",
       "      <td>1000</td>\n",
       "      <td>19660630</td>\n",
       "      <td>1966</td>\n",
       "      <td>2</td>\n",
       "      <td>INDL</td>\n",
       "      <td>C</td>\n",
       "      <td>D</td>\n",
       "      <td>STD</td>\n",
       "      <td>000032102</td>\n",
       "      <td>USD</td>\n",
       "      <td>1966Q2</td>\n",
       "      <td>1966Q2</td>\n",
       "      <td>0.219</td>\n",
       "      <td>NaN</td>\n",
       "      <td>I</td>\n",
       "      <td>NaN</td>\n",
       "      <td>3089.0</td>\n",
       "    </tr>\n",
       "    <tr>\n",
       "      <th>2</th>\n",
       "      <td>1000</td>\n",
       "      <td>19660930</td>\n",
       "      <td>1966</td>\n",
       "      <td>3</td>\n",
       "      <td>INDL</td>\n",
       "      <td>C</td>\n",
       "      <td>D</td>\n",
       "      <td>STD</td>\n",
       "      <td>000032102</td>\n",
       "      <td>USD</td>\n",
       "      <td>1966Q3</td>\n",
       "      <td>1966Q3</td>\n",
       "      <td>0.219</td>\n",
       "      <td>NaN</td>\n",
       "      <td>I</td>\n",
       "      <td>NaN</td>\n",
       "      <td>3089.0</td>\n",
       "    </tr>\n",
       "    <tr>\n",
       "      <th>3</th>\n",
       "      <td>1000</td>\n",
       "      <td>19661231</td>\n",
       "      <td>1966</td>\n",
       "      <td>4</td>\n",
       "      <td>INDL</td>\n",
       "      <td>C</td>\n",
       "      <td>D</td>\n",
       "      <td>STD</td>\n",
       "      <td>000032102</td>\n",
       "      <td>USD</td>\n",
       "      <td>1966Q4</td>\n",
       "      <td>1966Q4</td>\n",
       "      <td>0.219</td>\n",
       "      <td>4.032</td>\n",
       "      <td>I</td>\n",
       "      <td>NaN</td>\n",
       "      <td>3089.0</td>\n",
       "    </tr>\n",
       "    <tr>\n",
       "      <th>4</th>\n",
       "      <td>1000</td>\n",
       "      <td>19670331</td>\n",
       "      <td>1967</td>\n",
       "      <td>1</td>\n",
       "      <td>INDL</td>\n",
       "      <td>C</td>\n",
       "      <td>D</td>\n",
       "      <td>STD</td>\n",
       "      <td>000032102</td>\n",
       "      <td>USD</td>\n",
       "      <td>1967Q1</td>\n",
       "      <td>1967Q1</td>\n",
       "      <td>0.277</td>\n",
       "      <td>NaN</td>\n",
       "      <td>I</td>\n",
       "      <td>NaN</td>\n",
       "      <td>3089.0</td>\n",
       "    </tr>\n",
       "  </tbody>\n",
       "</table>\n",
       "</div>"
      ],
      "text/plain": [
       "   gvkey  datadate  fyearq  fqtr indfmt consol popsrc datafmt      cusip  \\\n",
       "0   1000  19660331    1966     1   INDL      C      D     STD  000032102   \n",
       "1   1000  19660630    1966     2   INDL      C      D     STD  000032102   \n",
       "2   1000  19660930    1966     3   INDL      C      D     STD  000032102   \n",
       "3   1000  19661231    1966     4   INDL      C      D     STD  000032102   \n",
       "4   1000  19670331    1967     1   INDL      C      D     STD  000032102   \n",
       "\n",
       "  curcdq datacqtr datafqtr  cshoq  saleq costat  prccq     sic  \n",
       "0    USD   1966Q1   1966Q1  0.219    NaN      I    NaN  3089.0  \n",
       "1    USD   1966Q2   1966Q2  0.219    NaN      I    NaN  3089.0  \n",
       "2    USD   1966Q3   1966Q3  0.219    NaN      I    NaN  3089.0  \n",
       "3    USD   1966Q4   1966Q4  0.219  4.032      I    NaN  3089.0  \n",
       "4    USD   1967Q1   1967Q1  0.277    NaN      I    NaN  3089.0  "
      ]
     },
     "execution_count": 26,
     "metadata": {},
     "output_type": "execute_result"
    }
   ],
   "source": [
    "# read compustat.csv from compustat.zip\n",
    "import zipfile\n",
    "zf = zipfile.ZipFile(\"C:/Users/CDTchina/我的资源/Baruch/Python workshop 202007/session4/compustat.zip\")\n",
    "compustat = pd.read_csv(zf.open(\"compustat.csv\"), header = 0)\n",
    "\n",
    "print(compustat.shape)\n",
    "compustat.head()"
   ]
  },
  {
   "cell_type": "markdown",
   "metadata": {},
   "source": [
    "* Variable names that we are interested in:\n",
    "    * sic code: four digits integer for company\n",
    "    * datecqtr: year/ quarter time for the record\n",
    "    * cusip: compustats identifier for a company\n",
    "    * chod: shares out of standing (in million)\n",
    "    * saleq: sales of current quarter (in million)\n",
    "    * prccq: close price of current quarter (in dollar)"
   ]
  },
  {
   "cell_type": "code",
   "execution_count": 27,
   "metadata": {
    "ExecuteTime": {
     "end_time": "2020-08-19T08:57:35.040478Z",
     "start_time": "2020-08-19T08:57:34.798464Z"
    }
   },
   "outputs": [
    {
     "name": "stdout",
     "output_type": "stream",
     "text": [
      "(1811299, 7)\n"
     ]
    },
    {
     "data": {
      "text/html": [
       "<div>\n",
       "<style scoped>\n",
       "    .dataframe tbody tr th:only-of-type {\n",
       "        vertical-align: middle;\n",
       "    }\n",
       "\n",
       "    .dataframe tbody tr th {\n",
       "        vertical-align: top;\n",
       "    }\n",
       "\n",
       "    .dataframe thead th {\n",
       "        text-align: right;\n",
       "    }\n",
       "</style>\n",
       "<table border=\"1\" class=\"dataframe\">\n",
       "  <thead>\n",
       "    <tr style=\"text-align: right;\">\n",
       "      <th></th>\n",
       "      <th>sic</th>\n",
       "      <th>datacqtr</th>\n",
       "      <th>cusip</th>\n",
       "      <th>cshoq</th>\n",
       "      <th>saleq</th>\n",
       "      <th>prccq</th>\n",
       "      <th>mktcap</th>\n",
       "    </tr>\n",
       "  </thead>\n",
       "  <tbody>\n",
       "    <tr>\n",
       "      <th>0</th>\n",
       "      <td>3089.0</td>\n",
       "      <td>1966Q1</td>\n",
       "      <td>000032102</td>\n",
       "      <td>0.219</td>\n",
       "      <td>NaN</td>\n",
       "      <td>NaN</td>\n",
       "      <td>NaN</td>\n",
       "    </tr>\n",
       "    <tr>\n",
       "      <th>1</th>\n",
       "      <td>3089.0</td>\n",
       "      <td>1966Q2</td>\n",
       "      <td>000032102</td>\n",
       "      <td>0.219</td>\n",
       "      <td>NaN</td>\n",
       "      <td>NaN</td>\n",
       "      <td>NaN</td>\n",
       "    </tr>\n",
       "    <tr>\n",
       "      <th>2</th>\n",
       "      <td>3089.0</td>\n",
       "      <td>1966Q3</td>\n",
       "      <td>000032102</td>\n",
       "      <td>0.219</td>\n",
       "      <td>NaN</td>\n",
       "      <td>NaN</td>\n",
       "      <td>NaN</td>\n",
       "    </tr>\n",
       "    <tr>\n",
       "      <th>3</th>\n",
       "      <td>3089.0</td>\n",
       "      <td>1966Q4</td>\n",
       "      <td>000032102</td>\n",
       "      <td>0.219</td>\n",
       "      <td>4.032</td>\n",
       "      <td>NaN</td>\n",
       "      <td>NaN</td>\n",
       "    </tr>\n",
       "    <tr>\n",
       "      <th>4</th>\n",
       "      <td>3089.0</td>\n",
       "      <td>1967Q1</td>\n",
       "      <td>000032102</td>\n",
       "      <td>0.277</td>\n",
       "      <td>NaN</td>\n",
       "      <td>NaN</td>\n",
       "      <td>NaN</td>\n",
       "    </tr>\n",
       "  </tbody>\n",
       "</table>\n",
       "</div>"
      ],
      "text/plain": [
       "      sic datacqtr      cusip  cshoq  saleq  prccq  mktcap\n",
       "0  3089.0   1966Q1  000032102  0.219    NaN    NaN     NaN\n",
       "1  3089.0   1966Q2  000032102  0.219    NaN    NaN     NaN\n",
       "2  3089.0   1966Q3  000032102  0.219    NaN    NaN     NaN\n",
       "3  3089.0   1966Q4  000032102  0.219  4.032    NaN     NaN\n",
       "4  3089.0   1967Q1  000032102  0.277    NaN    NaN     NaN"
      ]
     },
     "execution_count": 27,
     "metadata": {},
     "output_type": "execute_result"
    }
   ],
   "source": [
    "# select variables that we're interested in\n",
    "my_compustat = compustat.loc[:,[\"sic\",\"datacqtr\",\"cusip\",\"cshoq\",\"saleq\",\"prccq\"]]\n",
    "my_compustat['mktcap'] = my_compustat['cshoq'] * my_compustat['prccq'] \n",
    "\n",
    "print(my_compustat.shape)\n",
    "my_compustat.head()"
   ]
  },
  {
   "cell_type": "markdown",
   "metadata": {},
   "source": [
    "* For saleq and market cap, compute the following:\n",
    "    * Time series mean\n",
    "    * Time Series standard deviation\n",
    "    * Time Series count of missing values\n",
    "    * Time Series ratio of missing values\n",
    "    * Aggregate the result in a dataframe"
   ]
  },
  {
   "cell_type": "code",
   "execution_count": 28,
   "metadata": {
    "ExecuteTime": {
     "end_time": "2020-08-19T08:57:35.146484Z",
     "start_time": "2020-08-19T08:57:35.138484Z"
    }
   },
   "outputs": [],
   "source": [
    "def get_stats(df):\n",
    "    mean = df.mean()\n",
    "    std = df.std()\n",
    "    size = df.shape[0]\n",
    "    miss_count = size - df.count()\n",
    "    miss_ratio = miss_count / size\n",
    "    return pd.Series([mean, std, miss_count, miss_ratio], index = ['mean', 'std', 'miss_count', 'miss_ratio']).to_frame(name=df.name)"
   ]
  },
  {
   "cell_type": "code",
   "execution_count": 29,
   "metadata": {
    "ExecuteTime": {
     "end_time": "2020-08-19T08:57:35.295492Z",
     "start_time": "2020-08-19T08:57:35.240489Z"
    }
   },
   "outputs": [
    {
     "data": {
      "text/html": [
       "<div>\n",
       "<style scoped>\n",
       "    .dataframe tbody tr th:only-of-type {\n",
       "        vertical-align: middle;\n",
       "    }\n",
       "\n",
       "    .dataframe tbody tr th {\n",
       "        vertical-align: top;\n",
       "    }\n",
       "\n",
       "    .dataframe thead th {\n",
       "        text-align: right;\n",
       "    }\n",
       "</style>\n",
       "<table border=\"1\" class=\"dataframe\">\n",
       "  <thead>\n",
       "    <tr style=\"text-align: right;\">\n",
       "      <th></th>\n",
       "      <th>saleq</th>\n",
       "      <th>mktcap</th>\n",
       "    </tr>\n",
       "  </thead>\n",
       "  <tbody>\n",
       "    <tr>\n",
       "      <th>mean</th>\n",
       "      <td>445.15</td>\n",
       "      <td>2057.47</td>\n",
       "    </tr>\n",
       "    <tr>\n",
       "      <th>std</th>\n",
       "      <td>2679.71</td>\n",
       "      <td>13202.20</td>\n",
       "    </tr>\n",
       "    <tr>\n",
       "      <th>miss_count</th>\n",
       "      <td>269498.00</td>\n",
       "      <td>468276.00</td>\n",
       "    </tr>\n",
       "    <tr>\n",
       "      <th>miss_ratio</th>\n",
       "      <td>0.15</td>\n",
       "      <td>0.26</td>\n",
       "    </tr>\n",
       "  </tbody>\n",
       "</table>\n",
       "</div>"
      ],
      "text/plain": [
       "                saleq     mktcap\n",
       "mean           445.15    2057.47\n",
       "std           2679.71   13202.20\n",
       "miss_count  269498.00  468276.00\n",
       "miss_ratio       0.15       0.26"
      ]
     },
     "execution_count": 29,
     "metadata": {},
     "output_type": "execute_result"
    }
   ],
   "source": [
    "saleq_stats = get_stats(my_compustat['saleq'])\n",
    "mktcap_stats = get_stats(my_compustat['mktcap'])\n",
    "saleq_mktcap_stats = pd.concat([saleq_stats, mktcap_stats], axis = 1)\n",
    "saleq_mktcap_stats.round(2)"
   ]
  },
  {
   "cell_type": "markdown",
   "metadata": {},
   "source": [
    "* Answer the following questions:\n",
    "    * Before computing any value, what kinds of descriptive analysis would you do to check if there are outliers?\n",
    "    * Implement some schemes to detect outliers."
   ]
  },
  {
   "cell_type": "code",
   "execution_count": 30,
   "metadata": {
    "ExecuteTime": {
     "end_time": "2020-08-19T08:57:35.674514Z",
     "start_time": "2020-08-19T08:57:35.383498Z"
    }
   },
   "outputs": [
    {
     "data": {
      "text/html": [
       "<div>\n",
       "<style scoped>\n",
       "    .dataframe tbody tr th:only-of-type {\n",
       "        vertical-align: middle;\n",
       "    }\n",
       "\n",
       "    .dataframe tbody tr th {\n",
       "        vertical-align: top;\n",
       "    }\n",
       "\n",
       "    .dataframe thead th {\n",
       "        text-align: right;\n",
       "    }\n",
       "</style>\n",
       "<table border=\"1\" class=\"dataframe\">\n",
       "  <thead>\n",
       "    <tr style=\"text-align: right;\">\n",
       "      <th></th>\n",
       "      <th>count</th>\n",
       "      <th>mean</th>\n",
       "      <th>std</th>\n",
       "      <th>min</th>\n",
       "      <th>25%</th>\n",
       "      <th>50%</th>\n",
       "      <th>75%</th>\n",
       "      <th>max</th>\n",
       "    </tr>\n",
       "  </thead>\n",
       "  <tbody>\n",
       "    <tr>\n",
       "      <th>saleq</th>\n",
       "      <td>1541801.0</td>\n",
       "      <td>445.15</td>\n",
       "      <td>2679.71</td>\n",
       "      <td>-25623.0</td>\n",
       "      <td>3.21</td>\n",
       "      <td>21.82</td>\n",
       "      <td>130.53</td>\n",
       "      <td>207307.33</td>\n",
       "    </tr>\n",
       "    <tr>\n",
       "      <th>mktcap</th>\n",
       "      <td>1343023.0</td>\n",
       "      <td>2057.47</td>\n",
       "      <td>13202.20</td>\n",
       "      <td>0.0</td>\n",
       "      <td>20.01</td>\n",
       "      <td>94.22</td>\n",
       "      <td>525.71</td>\n",
       "      <td>1540774.21</td>\n",
       "    </tr>\n",
       "  </tbody>\n",
       "</table>\n",
       "</div>"
      ],
      "text/plain": [
       "            count     mean       std      min    25%    50%     75%  \\\n",
       "saleq   1541801.0   445.15   2679.71 -25623.0   3.21  21.82  130.53   \n",
       "mktcap  1343023.0  2057.47  13202.20      0.0  20.01  94.22  525.71   \n",
       "\n",
       "               max  \n",
       "saleq    207307.33  \n",
       "mktcap  1540774.21  "
      ]
     },
     "execution_count": 30,
     "metadata": {},
     "output_type": "execute_result"
    }
   ],
   "source": [
    "# get stats description for saleq / market cap\n",
    "my_compustat[[\"saleq\",\"mktcap\"]].describe().T.round(2)"
   ]
  },
  {
   "cell_type": "code",
   "execution_count": 31,
   "metadata": {
    "ExecuteTime": {
     "end_time": "2020-08-19T08:57:37.107596Z",
     "start_time": "2020-08-19T08:57:35.780520Z"
    }
   },
   "outputs": [
    {
     "data": {
      "image/png": "[encoded data removed]",
      "text/plain": [
       "<Figure size 1440x360 with 2 Axes>"
      ]
     },
     "metadata": {
      "needs_background": "light"
     },
     "output_type": "display_data"
    }
   ],
   "source": [
    "# boxplot for saleq / market cap\n",
    "import matplotlib.pyplot as plt\n",
    "plt.figure(figsize=(20, 5))\n",
    "plt.subplot(211)\n",
    "plt.boxplot(my_compustat['saleq'].dropna(), vert = False)\n",
    "plt.title(\"Boxplot: saleq\")\n",
    "plt.subplot(212)\n",
    "plt.boxplot(my_compustat['mktcap'].dropna(), vert = False)\n",
    "plt.title(\"Boxplot: market cap\")\n",
    "plt.show()"
   ]
  },
  {
   "cell_type": "code",
   "execution_count": 32,
   "metadata": {
    "ExecuteTime": {
     "end_time": "2020-08-19T08:57:37.801636Z",
     "start_time": "2020-08-19T08:57:37.223603Z"
    }
   },
   "outputs": [
    {
     "name": "stderr",
     "output_type": "stream",
     "text": [
      "C:\\Users\\CDTchina\\AppData\\Roaming\\Python\\Python37\\site-packages\\pandas\\core\\series.py:679: RuntimeWarning: divide by zero encountered in log\n",
      "  result = getattr(ufunc, method)(*inputs, **kwargs)\n",
      "C:\\Users\\CDTchina\\AppData\\Roaming\\Python\\Python37\\site-packages\\pandas\\core\\series.py:679: RuntimeWarning: invalid value encountered in log\n",
      "  result = getattr(ufunc, method)(*inputs, **kwargs)\n"
     ]
    },
    {
     "data": {
      "image/png": "[encoded data removed]",
      "text/plain": [
       "<Figure size 1440x360 with 2 Axes>"
      ]
     },
     "metadata": {
      "needs_background": "light"
     },
     "output_type": "display_data"
    }
   ],
   "source": [
    "# Log outliers.\n",
    "# We do logarithmic form because the distribution is heavily long-tailed, and financial data are usually distributed log-normally.\n",
    "# Note that there are many negative saleq values, which would be dropped during computing log.\n",
    "plt.figure(figsize=(20, 5))\n",
    "plt.subplot(211)\n",
    "plt.boxplot(np.log(my_compustat['saleq']).dropna(), vert = False)\n",
    "plt.title(\"Boxplot: saleq\")\n",
    "plt.subplot(212)\n",
    "plt.boxplot(np.log(my_compustat['mktcap']).dropna(), vert = False)\n",
    "plt.title(\"Boxplot: market cap\")\n",
    "plt.show()"
   ]
  },
  {
   "cell_type": "markdown",
   "metadata": {
    "ExecuteTime": {
     "end_time": "2020-08-15T15:20:56.408307Z",
     "start_time": "2020-08-15T15:20:56.395307Z"
    }
   },
   "source": [
    "* Do you find some outliers? Could you think why? You can do some research using google."
   ]
  },
  {
   "cell_type": "markdown",
   "metadata": {},
   "source": [
    "* There are awfully many outliers.\n",
    "* Reason:\n",
    "    * We are testing here outliers whose values are over Q3+1.5IQR or under Q1－1.5IQR, which might not be a good choice for this scenario;\n",
    "    * Companies(Industries) can vary a lot, and some companies(industries) can outperform others by a really large margin;\n",
    "    * Both saleq and mkt_cap can shift violently during extreme periods, like financial crisis."
   ]
  },
  {
   "cell_type": "markdown",
   "metadata": {},
   "source": [
    "* What kinds of conclusion you can get from analyzing the table you get in 2? You can make some plots to illustrate."
   ]
  },
  {
   "cell_type": "markdown",
   "metadata": {
    "ExecuteTime": {
     "end_time": "2020-08-19T08:39:41.374068Z",
     "start_time": "2020-08-19T08:39:41.348066Z"
    }
   },
   "source": [
    "Descriptive tables of the data suggest long right tail, as demonstrated by the boxplot.\n",
    "\n",
    "Log boxplot, however, suggests that the data is not so long-tailed logarithmically, but still fat-tailed."
   ]
  },
  {
   "cell_type": "markdown",
   "metadata": {},
   "source": [
    "## Question 2 Compute Industry Concentration\n",
    "\n",
    "The defination of HHI index could be found:\n",
    "\n",
    "https://www.investopedia.com/terms/h/hhi.asp#:~:text=The%20Herfindahl%2DHirschman%20Index%20(HHI)%20is%20a%20commonly%20accepted,close%20to%20zero%20to%2010%2C000.\n",
    "\n",
    "This index is used to measure the industry concentration and was used by congressman to determine whether to approve a merge deal or not.\n",
    "\n",
    "Using the same data in question 1. Compute a panel data for HHI index for all industry, using a 2 digit SIC code.\n"
   ]
  },
  {
   "cell_type": "code",
   "execution_count": 51,
   "metadata": {
    "ExecuteTime": {
     "end_time": "2020-08-19T09:03:31.403861Z",
     "start_time": "2020-08-19T09:03:30.771825Z"
    },
    "scrolled": true
   },
   "outputs": [],
   "source": [
    "my_compustat2 = my_compustat[['sic','datacqtr','mktcap']].dropna()\n",
    "my_compustat2['industry'] = my_compustat2['sic'] // 100\n",
    "my_compustat2['mktcap_ind'] = my_compustat2.groupby(['industry', 'datacqtr'])['mktcap'].transform('sum')"
   ]
  },
  {
   "cell_type": "code",
   "execution_count": 73,
   "metadata": {
    "ExecuteTime": {
     "end_time": "2020-08-19T09:08:51.352161Z",
     "start_time": "2020-08-19T09:08:51.219153Z"
    }
   },
   "outputs": [],
   "source": [
    "my_compustat2['mkt_share'] = my_compustat2['mktcap'] / my_compustat2['mktcap_ind'] * 100\n",
    "my_compustat2['mkt_share2'] = my_compustat2['mkt_share'] ** 2\n",
    "my_compustat2 = my_compustat2[['industry','datacqtr','mkt_share2']]"
   ]
  },
  {
   "cell_type": "code",
   "execution_count": 116,
   "metadata": {
    "ExecuteTime": {
     "end_time": "2020-08-19T09:21:51.045757Z",
     "start_time": "2020-08-19T09:21:50.826744Z"
    },
    "scrolled": true
   },
   "outputs": [
    {
     "data": {
      "text/html": [
       "<div>\n",
       "<style scoped>\n",
       "    .dataframe tbody tr th:only-of-type {\n",
       "        vertical-align: middle;\n",
       "    }\n",
       "\n",
       "    .dataframe tbody tr th {\n",
       "        vertical-align: top;\n",
       "    }\n",
       "\n",
       "    .dataframe thead th {\n",
       "        text-align: right;\n",
       "    }\n",
       "</style>\n",
       "<table border=\"1\" class=\"dataframe\">\n",
       "  <thead>\n",
       "    <tr style=\"text-align: right;\">\n",
       "      <th></th>\n",
       "      <th></th>\n",
       "      <th>HHI</th>\n",
       "    </tr>\n",
       "    <tr>\n",
       "      <th>industry</th>\n",
       "      <th>datacqtr</th>\n",
       "      <th></th>\n",
       "    </tr>\n",
       "  </thead>\n",
       "  <tbody>\n",
       "    <tr>\n",
       "      <th rowspan=\"5\" valign=\"top\">1.0</th>\n",
       "      <th>1967Q4</th>\n",
       "      <td>10000.000000</td>\n",
       "    </tr>\n",
       "    <tr>\n",
       "      <th>1968Q1</th>\n",
       "      <td>10000.000000</td>\n",
       "    </tr>\n",
       "    <tr>\n",
       "      <th>1968Q2</th>\n",
       "      <td>5667.833632</td>\n",
       "    </tr>\n",
       "    <tr>\n",
       "      <th>1968Q3</th>\n",
       "      <td>5927.306594</td>\n",
       "    </tr>\n",
       "    <tr>\n",
       "      <th>1968Q4</th>\n",
       "      <td>3414.368239</td>\n",
       "    </tr>\n",
       "  </tbody>\n",
       "</table>\n",
       "</div>"
      ],
      "text/plain": [
       "                            HHI\n",
       "industry datacqtr              \n",
       "1.0      1967Q4    10000.000000\n",
       "         1968Q1    10000.000000\n",
       "         1968Q2     5667.833632\n",
       "         1968Q3     5927.306594\n",
       "         1968Q4     3414.368239"
      ]
     },
     "execution_count": 116,
     "metadata": {},
     "output_type": "execute_result"
    }
   ],
   "source": [
    "HHI_stat = my_compustat2.groupby(['industry','datacqtr']).sum().rename(columns={'mkt_share2':'HHI'})\n",
    "HHI_stat.head()"
   ]
  },
  {
   "cell_type": "markdown",
   "metadata": {},
   "source": [
    "Choose top 4 industry with the highest average HHI index, plot their time series pattern of HHI in a 2 by 2 figure."
   ]
  },
  {
   "cell_type": "code",
   "execution_count": 136,
   "metadata": {
    "ExecuteTime": {
     "end_time": "2020-08-19T09:27:18.988514Z",
     "start_time": "2020-08-19T09:27:18.970513Z"
    }
   },
   "outputs": [
    {
     "data": {
      "text/plain": [
       "[81, 9, 84, 7]"
      ]
     },
     "execution_count": 136,
     "metadata": {},
     "output_type": "execute_result"
    }
   ],
   "source": [
    "HHI_top4 = HHI_stat.groupby(['industry']).mean().sort_values(by = 'HHI', ascending = False)\n",
    "HHI_top4 = HHI_top4[HHI_top4['HHI'] < 10000].head(4)\n",
    "inds = [int(HHI_top4.index[i]) for i in range(4)]     # 4 chosen industries\n",
    "inds"
   ]
  },
  {
   "cell_type": "code",
   "execution_count": 147,
   "metadata": {
    "ExecuteTime": {
     "end_time": "2020-08-19T09:29:52.539297Z",
     "start_time": "2020-08-19T09:29:51.806255Z"
    },
    "scrolled": true
   },
   "outputs": [
    {
     "data": {
      "image/png": "[encoded data removed]",
      "text/plain": [
       "<Figure size 1152x720 with 4 Axes>"
      ]
     },
     "metadata": {
      "needs_background": "light"
     },
     "output_type": "display_data"
    }
   ],
   "source": [
    "position = [(0,0),(0,1),(1,0),(1,1)]\n",
    "fig = plt.figure(figsize=(16,10)) \n",
    "axes = fig.subplots(2,2)\n",
    "fig.suptitle('HHI Index of Top 4 Industries', fontsize=16)\n",
    "for i, ind in enumerate(inds):\n",
    "    x = position[i][0]\n",
    "    y = position[i][1]\n",
    "    data = HHI_stat.loc[ind,:,:]\n",
    "    t = pd.to_datetime(data.index.droplevel(level = 0))\n",
    "    axes[x, y].plot(t, data['HHI'])\n",
    "    axes[x, y].set_title(label='Industry: ' + str(ind), fontsize = 16)"
   ]
  },
  {
   "cell_type": "code",
   "execution_count": null,
   "metadata": {},
   "outputs": [],
   "source": []
  }
 ],
 "metadata": {
  "kernelspec": {
   "display_name": "Python 3",
   "language": "python",
   "name": "python3"
  },
  "language_info": {
   "codemirror_mode": {
    "name": "ipython",
    "version": 3
   },
   "file_extension": ".py",
   "mimetype": "text/x-python",
   "name": "python",
   "nbconvert_exporter": "python",
   "pygments_lexer": "ipython3",
   "version": "3.7.1"
  },
  "toc": {
   "base_numbering": 1,
   "nav_menu": {},
   "number_sections": true,
   "sideBar": true,
   "skip_h1_title": false,
   "title_cell": "Table of Contents",
   "title_sidebar": "Contents",
   "toc_cell": false,
   "toc_position": {},
   "toc_section_display": true,
   "toc_window_display": false
  },
  "varInspector": {
   "cols": {
    "lenName": 16,
    "lenType": 16,
    "lenVar": 40
   },
   "kernels_config": {
    "python": {
     "delete_cmd_postfix": "",
     "delete_cmd_prefix": "del ",
     "library": "var_list.py",
     "varRefreshCmd": "print(var_dic_list())"
    },
    "r": {
     "delete_cmd_postfix": ") ",
     "delete_cmd_prefix": "rm(",
     "library": "var_list.r",
     "varRefreshCmd": "cat(var_dic_list()) "
    }
   },
   "types_to_exclude": [
    "module",
    "function",
    "builtin_function_or_method",
    "instance",
    "_Feature"
   ],
   "window_display": false
  }
 },
 "nbformat": 4,
 "nbformat_minor": 2
}
