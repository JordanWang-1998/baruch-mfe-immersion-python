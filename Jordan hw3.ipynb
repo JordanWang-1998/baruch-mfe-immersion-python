{
 "cells": [
  {
   "cell_type": "code",
   "execution_count": 3,
   "metadata": {
    "ExecuteTime": {
     "end_time": "2020-08-07T07:20:33.790194Z",
     "start_time": "2020-08-07T07:20:33.778193Z"
    }
   },
   "outputs": [],
   "source": [
    "from IPython.core.interactiveshell import InteractiveShell\n",
    "InteractiveShell.ast_node_interactivity = \"all\""
   ]
  },
  {
   "cell_type": "markdown",
   "metadata": {},
   "source": [
    "# Homework 3"
   ]
  },
  {
   "cell_type": "markdown",
   "metadata": {},
   "source": [
    "## numphy re-implementation\n",
    "\n",
    "Read the code below and rewrite it using only numpy functions (without for loop,\n",
    "if-else statements). Benchmark your implementation. How much is it faster than\n",
    "the naive python implementation? (hint: use np.isin)\n",
    "\n",
    "```python\n",
    "def func1(names, db):\n",
    "    idx = []\n",
    "    for i in names:\n",
    "        if i in db:\n",
    "            idx.append(db.index(i))\n",
    "    return idx\n",
    "```"
   ]
  },
  {
   "cell_type": "code",
   "execution_count": 25,
   "metadata": {
    "ExecuteTime": {
     "end_time": "2020-08-08T12:07:49.698823Z",
     "start_time": "2020-08-08T12:07:49.684823Z"
    }
   },
   "outputs": [],
   "source": [
    "def func1(names, db):\n",
    "    idx = []\n",
    "    for i in names:\n",
    "        if i in db:\n",
    "            idx.append(db.index(i))\n",
    "    return idx"
   ]
  },
  {
   "cell_type": "code",
   "execution_count": 82,
   "metadata": {
    "ExecuteTime": {
     "end_time": "2020-08-08T12:19:14.173973Z",
     "start_time": "2020-08-08T12:19:14.159972Z"
    }
   },
   "outputs": [],
   "source": [
    "def np_func1(names, db):\n",
    "    db_index_array = np.arange(0, len(db))\n",
    "    mask_isin = np.isin(db, names)\n",
    "    return db_index_array[mask_isin]"
   ]
  },
  {
   "cell_type": "code",
   "execution_count": 89,
   "metadata": {
    "ExecuteTime": {
     "end_time": "2020-08-08T12:21:30.142750Z",
     "start_time": "2020-08-08T12:21:27.699610Z"
    }
   },
   "outputs": [
    {
     "name": "stdout",
     "output_type": "stream",
     "text": [
      "func1(names, db) = \n",
      " [97358, 42056, 28612, 5485, 66173, 59898, 42474, 77990, 65178, 70723, 27672, 13898, 38698, 18721, 9703, 63752, 20848, 59296, 39972, 41716, 81619, 47959, 41534, 91527, 23610, 98266, 97935, 58667, 93717, 73187, 74537, 14401, 12998, 50766, 83263, 67754, 20345, 82561, 55279, 86879, 63449, 75845, 59755, 61268, 24626, 861, 72014, 8077, 5170, 86338, 57254, 48421, 20526, 60184, 8027, 52049, 35508, 5349, 82279, 1466, 66507, 1309, 81715, 20149, 9138, 22969, 17412, 31165, 74871, 46622, 35903, 12537, 78670, 11756, 29497, 77553, 2225, 57547, 50210, 50987, 37178, 53309, 98801, 73966, 53085, 45473, 12641, 42578, 5378, 13377, 50055, 58262, 61445, 83996, 17195, 76289, 17365, 65887, 34917, 55814, 23103, 68168, 63920, 19811, 84982, 74199] \n",
      "\n",
      "np_func1(names, db) = \n",
      " [  861  1309  1466  2225  5170  5349  5378  5485  8027  8077  9138  9703\n",
      " 11756 12537 12641 12998 13377 13898 14401 17195 17365 17412 18721 19811\n",
      " 20149 20210 20345 20526 20848 22969 23103 23610 24626 27672 28612 29497\n",
      " 31165 34917 35508 35903 37178 38698 39972 41534 41716 42056 42474 42578\n",
      " 45473 46622 47767 47959 48421 50055 50210 50766 50987 52049 53085 53309\n",
      " 55279 55814 57254 57547 58262 58667 59296 59755 59898 60184 61268 61445\n",
      " 62735 63449 63713 63752 63920 64593 65178 65887 66173 66507 67754 68168\n",
      " 70723 71055 72014 73187 73966 74199 74537 74871 75845 76289 77553 77990\n",
      " 78670 81619 81715 82279 82561 83263 83996 84982 85405 86338 86879 90164\n",
      " 91527 93717 97358 97935 98266 98801] \n",
      "\n"
     ]
    }
   ],
   "source": [
    "np.random.seed(10)\n",
    "names = np.random.randint(1,1000000,1000)        # List of names\n",
    "db = list(np.random.randint(1,1000000,100000))   # List of db\n",
    "print(\"func1(names, db) = \\n\", func1(names, db), \"\\n\")\n",
    "print(\"np_func1(names, db) = \\n\", np_func1(names, db), \"\\n\")"
   ]
  },
  {
   "cell_type": "code",
   "execution_count": 87,
   "metadata": {
    "ExecuteTime": {
     "end_time": "2020-08-08T12:20:27.597173Z",
     "start_time": "2020-08-08T12:20:04.955878Z"
    }
   },
   "outputs": [
    {
     "name": "stdout",
     "output_type": "stream",
     "text": [
      "2.5 s ± 141 ms per loop (mean ± std. dev. of 7 runs, 1 loop each)\n",
      "27 ms ± 785 µs per loop (mean ± std. dev. of 7 runs, 10 loops each)\n"
     ]
    }
   ],
   "source": [
    "%timeit func1(names, db)\n",
    "%timeit np_func1(names, db)  # About 100 times faster"
   ]
  },
  {
   "cell_type": "markdown",
   "metadata": {},
   "source": [
    "## largest 3 distances, using numpy \n",
    "\n",
    "Use only numpy functions (without for loop, if-else statements) to find the\n",
    "largest 3 distances between points if either points is inside the circle of\n",
    "raidus r0. Then return these points. E.g.\n",
    "\n",
    "```python\n",
    ">>> coordinates = np.array(\n",
    "[[0.968, 0.313],\n",
    " [0.692, 0.876],\n",
    " [0.895, 0.085],\n",
    " [0.039, 0.17 ],\n",
    " [0.878, 0.098]]\n",
    ")\n",
    ">>> cirle_r0 = 0.9\n",
    ">>> print(search_pairs(coordinates, cirle_r0))\n",
    "\n",
    "# The indices of the relevant points in the original coordinates\n",
    "[[2 1]\n",
    " [3 0]\n",
    " [3 1]]\n",
    "```"
   ]
  },
  {
   "cell_type": "code",
   "execution_count": 119,
   "metadata": {
    "ExecuteTime": {
     "end_time": "2020-08-08T12:37:11.696604Z",
     "start_time": "2020-08-08T12:37:11.684603Z"
    }
   },
   "outputs": [],
   "source": [
    "# Given a set of points, find the largest 3 distances between points if either point is inside the circle with raidus r0\n",
    "def search_pairs(coordinates, r0):\n",
    "\n",
    "    pair_dists = np.linalg.norm(coordinates[:, np.newaxis, :] - coordinates, axis=2)  # pairwise distance between points\n",
    "    points_in_r0 = np.linalg.norm(coordinates, axis=1) < r0     # mask, True if the point is inside the circle\n",
    "    mask_r0 = points_in_r0[:, np.newaxis] ^ points_in_r0        # mask, True if either point of (pt1, pt2) is inside the circle\n",
    "    mask_uniq_dists = np.tril(np.ones_like(mask_r0), k=-1)      # lower triangular 1's of mask_r0, to drop duplicates\n",
    "    uniq_dists = pair_dists[mask_r0 & mask_uniq_dists]          # valid distances\n",
    "    uniq_dists_top3 = np.partition(uniq_dists, -3)[-3:]         # largest 3 valid distances\n",
    "    uniq_indices = np.argwhere(mask_r0 & mask_uniq_dists)       # indices of valid distances, using np.argwhere \n",
    "    return uniq_indices[np_func1(uniq_dists, uniq_dists_top3)]  # indices of the relevant points in the original coordinates"
   ]
  },
  {
   "cell_type": "code",
   "execution_count": 120,
   "metadata": {
    "ExecuteTime": {
     "end_time": "2020-08-08T12:37:14.480763Z",
     "start_time": "2020-08-08T12:37:14.473763Z"
    }
   },
   "outputs": [
    {
     "name": "stdout",
     "output_type": "stream",
     "text": [
      "[[2 0]\n",
      " [2 1]\n",
      " [3 0]]\n"
     ]
    }
   ],
   "source": [
    "coordinates = np.array([[0.968, 0.313],\n",
    "                        [0.692, 0.876],\n",
    "                        [0.895, 0.085],\n",
    "                        [0.039, 0.17 ],\n",
    "                        [0.878, 0.098]])\n",
    "cirle_r0 = 0.9\n",
    "print(search_pairs(coordinates, cirle_r0))"
   ]
  }
 ],
 "metadata": {
  "kernelspec": {
   "display_name": "Python 3",
   "language": "python",
   "name": "python3"
  },
  "language_info": {
   "codemirror_mode": {
    "name": "ipython",
    "version": 3
   },
   "file_extension": ".py",
   "mimetype": "text/x-python",
   "name": "python",
   "nbconvert_exporter": "python",
   "pygments_lexer": "ipython3",
   "version": "3.7.1"
  },
  "toc": {
   "base_numbering": 1,
   "nav_menu": {},
   "number_sections": true,
   "sideBar": true,
   "skip_h1_title": false,
   "title_cell": "Table of Contents",
   "title_sidebar": "Contents",
   "toc_cell": false,
   "toc_position": {},
   "toc_section_display": true,
   "toc_window_display": false
  },
  "varInspector": {
   "cols": {
    "lenName": 16,
    "lenType": 16,
    "lenVar": 40
   },
   "kernels_config": {
    "python": {
     "delete_cmd_postfix": "",
     "delete_cmd_prefix": "del ",
     "library": "var_list.py",
     "varRefreshCmd": "print(var_dic_list())"
    },
    "r": {
     "delete_cmd_postfix": ") ",
     "delete_cmd_prefix": "rm(",
     "library": "var_list.r",
     "varRefreshCmd": "cat(var_dic_list()) "
    }
   },
   "types_to_exclude": [
    "module",
    "function",
    "builtin_function_or_method",
    "instance",
    "_Feature"
   ],
   "window_display": false
  }
 },
 "nbformat": 4,
 "nbformat_minor": 2
}
